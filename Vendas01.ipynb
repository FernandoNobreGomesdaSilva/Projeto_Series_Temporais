{
 "cells": [
  {
   "cell_type": "code",
   "execution_count": 2,
   "id": "5b1cd378-37f7-4f7f-9215-f0b4287f4ea8",
   "metadata": {},
   "outputs": [],
   "source": [
    "import numpy as np\n",
    "import pandas as pd\n",
    "import matplotlib.pyplot as plt"
   ]
  },
  {
   "cell_type": "code",
   "execution_count": 3,
   "id": "f0142995-ce71-4f39-b5ad-58c60e51c8f5",
   "metadata": {},
   "outputs": [],
   "source": [
    "from matplotlib.pylab import rcParams\n",
    "rcParams['figure.figsize'] = 10, 4\n",
    "import matplotlib.pyplot as plt"
   ]
  },
  {
   "cell_type": "code",
   "execution_count": 4,
   "id": "fe0522cf-cd0a-460f-9461-96704b119da7",
   "metadata": {},
   "outputs": [
    {
     "data": {
      "text/html": [
       "<div>\n",
       "<style scoped>\n",
       "    .dataframe tbody tr th:only-of-type {\n",
       "        vertical-align: middle;\n",
       "    }\n",
       "\n",
       "    .dataframe tbody tr th {\n",
       "        vertical-align: top;\n",
       "    }\n",
       "\n",
       "    .dataframe thead th {\n",
       "        text-align: right;\n",
       "    }\n",
       "</style>\n",
       "<table border=\"1\" class=\"dataframe\">\n",
       "  <thead>\n",
       "    <tr style=\"text-align: right;\">\n",
       "      <th></th>\n",
       "      <th>Data</th>\n",
       "      <th>Total_Vendas</th>\n",
       "    </tr>\n",
       "  </thead>\n",
       "  <tbody>\n",
       "    <tr>\n",
       "      <th>0</th>\n",
       "      <td>2023-01-01</td>\n",
       "      <td>53.483571</td>\n",
       "    </tr>\n",
       "    <tr>\n",
       "      <th>1</th>\n",
       "      <td>2023-01-02</td>\n",
       "      <td>57.176993</td>\n",
       "    </tr>\n",
       "    <tr>\n",
       "      <th>2</th>\n",
       "      <td>2023-01-03</td>\n",
       "      <td>63.087722</td>\n",
       "    </tr>\n",
       "    <tr>\n",
       "      <th>3</th>\n",
       "      <td>2023-01-04</td>\n",
       "      <td>62.103987</td>\n",
       "    </tr>\n",
       "    <tr>\n",
       "      <th>4</th>\n",
       "      <td>2023-01-05</td>\n",
       "      <td>44.690396</td>\n",
       "    </tr>\n",
       "    <tr>\n",
       "      <th>...</th>\n",
       "      <td>...</td>\n",
       "      <td>...</td>\n",
       "    </tr>\n",
       "    <tr>\n",
       "      <th>360</th>\n",
       "      <td>2023-12-27</td>\n",
       "      <td>74.935570</td>\n",
       "    </tr>\n",
       "    <tr>\n",
       "      <th>361</th>\n",
       "      <td>2023-12-28</td>\n",
       "      <td>71.374857</td>\n",
       "    </tr>\n",
       "    <tr>\n",
       "      <th>362</th>\n",
       "      <td>2023-12-29</td>\n",
       "      <td>57.806920</td>\n",
       "    </tr>\n",
       "    <tr>\n",
       "      <th>363</th>\n",
       "      <td>2023-12-30</td>\n",
       "      <td>62.340244</td>\n",
       "    </tr>\n",
       "    <tr>\n",
       "      <th>364</th>\n",
       "      <td>2023-12-31</td>\n",
       "      <td>71.650720</td>\n",
       "    </tr>\n",
       "  </tbody>\n",
       "</table>\n",
       "<p>365 rows × 2 columns</p>\n",
       "</div>"
      ],
      "text/plain": [
       "           Data  Total_Vendas\n",
       "0    2023-01-01     53.483571\n",
       "1    2023-01-02     57.176993\n",
       "2    2023-01-03     63.087722\n",
       "3    2023-01-04     62.103987\n",
       "4    2023-01-05     44.690396\n",
       "..          ...           ...\n",
       "360  2023-12-27     74.935570\n",
       "361  2023-12-28     71.374857\n",
       "362  2023-12-29     57.806920\n",
       "363  2023-12-30     62.340244\n",
       "364  2023-12-31     71.650720\n",
       "\n",
       "[365 rows x 2 columns]"
      ]
     },
     "execution_count": 4,
     "metadata": {},
     "output_type": "execute_result"
    }
   ],
   "source": [
    "datasetVendas = pd.read_csv('Vendas_Diarias.csv', sep = \",\")\n",
    "datasetVendas"
   ]
  },
  {
   "cell_type": "code",
   "execution_count": 5,
   "id": "6c2936f4-ae82-4b98-8476-9d7f064c052b",
   "metadata": {},
   "outputs": [
    {
     "data": {
      "text/html": [
       "<div>\n",
       "<style scoped>\n",
       "    .dataframe tbody tr th:only-of-type {\n",
       "        vertical-align: middle;\n",
       "    }\n",
       "\n",
       "    .dataframe tbody tr th {\n",
       "        vertical-align: top;\n",
       "    }\n",
       "\n",
       "    .dataframe thead th {\n",
       "        text-align: right;\n",
       "    }\n",
       "</style>\n",
       "<table border=\"1\" class=\"dataframe\">\n",
       "  <thead>\n",
       "    <tr style=\"text-align: right;\">\n",
       "      <th></th>\n",
       "      <th>Data</th>\n",
       "      <th>Total_Vendas</th>\n",
       "    </tr>\n",
       "  </thead>\n",
       "  <tbody>\n",
       "    <tr>\n",
       "      <th>0</th>\n",
       "      <td>2023-01-01</td>\n",
       "      <td>53.483571</td>\n",
       "    </tr>\n",
       "    <tr>\n",
       "      <th>1</th>\n",
       "      <td>2023-01-02</td>\n",
       "      <td>57.176993</td>\n",
       "    </tr>\n",
       "    <tr>\n",
       "      <th>2</th>\n",
       "      <td>2023-01-03</td>\n",
       "      <td>63.087722</td>\n",
       "    </tr>\n",
       "    <tr>\n",
       "      <th>3</th>\n",
       "      <td>2023-01-04</td>\n",
       "      <td>62.103987</td>\n",
       "    </tr>\n",
       "    <tr>\n",
       "      <th>4</th>\n",
       "      <td>2023-01-05</td>\n",
       "      <td>44.690396</td>\n",
       "    </tr>\n",
       "    <tr>\n",
       "      <th>...</th>\n",
       "      <td>...</td>\n",
       "      <td>...</td>\n",
       "    </tr>\n",
       "    <tr>\n",
       "      <th>360</th>\n",
       "      <td>2023-12-27</td>\n",
       "      <td>74.935570</td>\n",
       "    </tr>\n",
       "    <tr>\n",
       "      <th>361</th>\n",
       "      <td>2023-12-28</td>\n",
       "      <td>71.374857</td>\n",
       "    </tr>\n",
       "    <tr>\n",
       "      <th>362</th>\n",
       "      <td>2023-12-29</td>\n",
       "      <td>57.806920</td>\n",
       "    </tr>\n",
       "    <tr>\n",
       "      <th>363</th>\n",
       "      <td>2023-12-30</td>\n",
       "      <td>62.340244</td>\n",
       "    </tr>\n",
       "    <tr>\n",
       "      <th>364</th>\n",
       "      <td>2023-12-31</td>\n",
       "      <td>71.650720</td>\n",
       "    </tr>\n",
       "  </tbody>\n",
       "</table>\n",
       "<p>365 rows × 2 columns</p>\n",
       "</div>"
      ],
      "text/plain": [
       "          Data  Total_Vendas\n",
       "0   2023-01-01     53.483571\n",
       "1   2023-01-02     57.176993\n",
       "2   2023-01-03     63.087722\n",
       "3   2023-01-04     62.103987\n",
       "4   2023-01-05     44.690396\n",
       "..         ...           ...\n",
       "360 2023-12-27     74.935570\n",
       "361 2023-12-28     71.374857\n",
       "362 2023-12-29     57.806920\n",
       "363 2023-12-30     62.340244\n",
       "364 2023-12-31     71.650720\n",
       "\n",
       "[365 rows x 2 columns]"
      ]
     },
     "execution_count": 5,
     "metadata": {},
     "output_type": "execute_result"
    }
   ],
   "source": [
    "# Converte a coluna Total_Vendas para numérico (se necessário)\n",
    "datasetVendas['Total_Vendas'] = pd.to_numeric(datasetVendas['Total_Vendas'], errors='coerce')\n",
    "# Converte a coluna Data para o formato datetime\n",
    "datasetVendas['Data'] = pd.to_datetime(datasetVendas['Data'])\n",
    "datasetVendas"
   ]
  },
  {
   "cell_type": "markdown",
   "id": "e26f6df9-6dfe-4b05-918b-eee62632c09c",
   "metadata": {},
   "source": [
    "# **Análise exploratória no formato mensal**"
   ]
  },
  {
   "cell_type": "code",
   "execution_count": 7,
   "id": "0a5b0a29-ce34-4b36-a5d7-6dd0a58ef42b",
   "metadata": {},
   "outputs": [
    {
     "name": "stdout",
     "output_type": "stream",
     "text": [
      "Resultado dataset agrupado por mês: \n",
      "          Data  Total_Vendas\n",
      "0  2023-01-01   1560.587027\n",
      "1  2023-02-01   1442.256437\n",
      "2  2023-03-01   1661.761162\n",
      "3  2023-04-01   1645.893941\n",
      "4  2023-05-01   1768.165178\n",
      "5  2023-06-01   1777.855749\n",
      "6  2023-07-01   1869.042792\n",
      "7  2023-08-01   1908.261083\n",
      "8  2023-09-01   1855.021848\n",
      "9  2023-10-01   2024.041978\n",
      "10 2023-11-01   2012.635660\n",
      "11 2023-12-01   2065.129330\n",
      "\n",
      "Média Mensal: 1799.22\n"
     ]
    }
   ],
   "source": [
    "# Agrupa os valores por mês e soma\n",
    "datasetVendasMensal = datasetVendas.groupby(datasetVendas['Data'].dt.to_period('M'))['Total_Vendas'].sum().reset_index()\n",
    "# Converte o índice de volta para datetime para um melhor formato\n",
    "datasetVendasMensal['Data'] = datasetVendasMensal['Data'].dt.to_timestamp()\n",
    "# Exibe o resultado\n",
    "print('Resultado dataset agrupado por mês: \\n', (datasetVendasMensal))\n",
    "mediaAnualTotalVendas = datasetVendasMensal['Total_Vendas'].mean() # Soma dos valores de cada mes divido por \n",
    "print('\\nMédia Mensal: {:.2f}'.format(mediaAnualTotalVendas))"
   ]
  },
  {
   "cell_type": "code",
   "execution_count": 8,
   "id": "6573914b-45f7-41a8-85c4-c0af33e9f009",
   "metadata": {},
   "outputs": [
    {
     "data": {
      "text/html": [
       "<div>\n",
       "<style scoped>\n",
       "    .dataframe tbody tr th:only-of-type {\n",
       "        vertical-align: middle;\n",
       "    }\n",
       "\n",
       "    .dataframe tbody tr th {\n",
       "        vertical-align: top;\n",
       "    }\n",
       "\n",
       "    .dataframe thead th {\n",
       "        text-align: right;\n",
       "    }\n",
       "</style>\n",
       "<table border=\"1\" class=\"dataframe\">\n",
       "  <thead>\n",
       "    <tr style=\"text-align: right;\">\n",
       "      <th></th>\n",
       "      <th>Data</th>\n",
       "      <th>Total_Vendas</th>\n",
       "      <th>Mês</th>\n",
       "    </tr>\n",
       "  </thead>\n",
       "  <tbody>\n",
       "    <tr>\n",
       "      <th>0</th>\n",
       "      <td>2023-01-01</td>\n",
       "      <td>1560.587027</td>\n",
       "      <td>Jan</td>\n",
       "    </tr>\n",
       "    <tr>\n",
       "      <th>1</th>\n",
       "      <td>2023-02-01</td>\n",
       "      <td>1442.256437</td>\n",
       "      <td>Feb</td>\n",
       "    </tr>\n",
       "    <tr>\n",
       "      <th>2</th>\n",
       "      <td>2023-03-01</td>\n",
       "      <td>1661.761162</td>\n",
       "      <td>Mar</td>\n",
       "    </tr>\n",
       "    <tr>\n",
       "      <th>3</th>\n",
       "      <td>2023-04-01</td>\n",
       "      <td>1645.893941</td>\n",
       "      <td>Apr</td>\n",
       "    </tr>\n",
       "    <tr>\n",
       "      <th>4</th>\n",
       "      <td>2023-05-01</td>\n",
       "      <td>1768.165178</td>\n",
       "      <td>May</td>\n",
       "    </tr>\n",
       "    <tr>\n",
       "      <th>5</th>\n",
       "      <td>2023-06-01</td>\n",
       "      <td>1777.855749</td>\n",
       "      <td>Jun</td>\n",
       "    </tr>\n",
       "    <tr>\n",
       "      <th>6</th>\n",
       "      <td>2023-07-01</td>\n",
       "      <td>1869.042792</td>\n",
       "      <td>Jul</td>\n",
       "    </tr>\n",
       "    <tr>\n",
       "      <th>7</th>\n",
       "      <td>2023-08-01</td>\n",
       "      <td>1908.261083</td>\n",
       "      <td>Aug</td>\n",
       "    </tr>\n",
       "    <tr>\n",
       "      <th>8</th>\n",
       "      <td>2023-09-01</td>\n",
       "      <td>1855.021848</td>\n",
       "      <td>Sep</td>\n",
       "    </tr>\n",
       "    <tr>\n",
       "      <th>9</th>\n",
       "      <td>2023-10-01</td>\n",
       "      <td>2024.041978</td>\n",
       "      <td>Oct</td>\n",
       "    </tr>\n",
       "    <tr>\n",
       "      <th>10</th>\n",
       "      <td>2023-11-01</td>\n",
       "      <td>2012.635660</td>\n",
       "      <td>Nov</td>\n",
       "    </tr>\n",
       "    <tr>\n",
       "      <th>11</th>\n",
       "      <td>2023-12-01</td>\n",
       "      <td>2065.129330</td>\n",
       "      <td>Dec</td>\n",
       "    </tr>\n",
       "  </tbody>\n",
       "</table>\n",
       "</div>"
      ],
      "text/plain": [
       "         Data  Total_Vendas  Mês\n",
       "0  2023-01-01   1560.587027  Jan\n",
       "1  2023-02-01   1442.256437  Feb\n",
       "2  2023-03-01   1661.761162  Mar\n",
       "3  2023-04-01   1645.893941  Apr\n",
       "4  2023-05-01   1768.165178  May\n",
       "5  2023-06-01   1777.855749  Jun\n",
       "6  2023-07-01   1869.042792  Jul\n",
       "7  2023-08-01   1908.261083  Aug\n",
       "8  2023-09-01   1855.021848  Sep\n",
       "9  2023-10-01   2024.041978  Oct\n",
       "10 2023-11-01   2012.635660  Nov\n",
       "11 2023-12-01   2065.129330  Dec"
      ]
     },
     "execution_count": 8,
     "metadata": {},
     "output_type": "execute_result"
    }
   ],
   "source": [
    "df = pd.DataFrame(datasetVendasMensal)\n",
    "df['Data'] = pd.to_datetime(df['Data'])  # Convertendo a coluna Data para datetime\n",
    "df['Mês'] = df['Data'].dt.strftime('%b')  # Extraindo o nome do mês\n",
    "df"
   ]
  },
  {
   "cell_type": "code",
   "execution_count": 9,
   "id": "8b7e4cd3-2a6e-4ef1-82e8-2de29cd0a2e1",
   "metadata": {},
   "outputs": [
    {
     "data": {
      "image/png": "[encoded data removed]",
      "text/plain": [
       "<Figure size 1300x400 with 1 Axes>"
      ]
     },
     "metadata": {},
     "output_type": "display_data"
    }
   ],
   "source": [
    "# Configurar o locale para formato brasileiro\n",
    "import locale\n",
    "locale.setlocale(locale.LC_ALL, 'pt_BR.UTF-8')\n",
    "# Plotando o gráfico de barras\n",
    "plt.figure(figsize=(13, 4))\n",
    "bars = plt.bar(df['Mês'], df['Total_Vendas'], color='skyblue')\n",
    "\n",
    "# Adicionando os valores nas barras\n",
    "for bar, valor in zip(bars, df['Total_Vendas']):\n",
    "    plt.text(\n",
    "        bar.get_x() + bar.get_width() / 2,  # Posição no eixo X\n",
    "        bar.get_height() - 10,             # Posição no eixo Y (um pouco acima da barra)\n",
    "        locale.format_string('%.2f', valor, grouping=True),  # Formato brasileiro\n",
    "        ha='center', va='bottom', fontsize=10  # Centralizado e com fonte ajustada\n",
    "    )\n",
    "# Configurações do gráfico\n",
    "plt.title('Total de Vendas por Mês (2023)', fontsize=12)\n",
    "plt.xlabel('Mês', fontsize=12)\n",
    "plt.ylabel('Total de Vendas', fontsize=12)\n",
    "plt.tight_layout()\n",
    "# Mostrar o gráfico\n",
    "plt.show()"
   ]
  },
  {
   "cell_type": "code",
   "execution_count": 10,
   "id": "382abb56-d98f-4635-be5f-8dd94f2b8c8a",
   "metadata": {},
   "outputs": [
    {
     "data": {
      "text/plain": [
       "(12, 2)"
      ]
     },
     "execution_count": 10,
     "metadata": {},
     "output_type": "execute_result"
    }
   ],
   "source": [
    "#Inforando o número de linhas e colunas\n",
    "datasetVendasMensal.shape"
   ]
  },
  {
   "cell_type": "code",
   "execution_count": 11,
   "id": "c8e7456e-9491-497f-a48b-27d58e1b23b4",
   "metadata": {},
   "outputs": [
    {
     "data": {
      "text/plain": [
       "Data            datetime64[ns]\n",
       "Total_Vendas           float64\n",
       "dtype: object"
      ]
     },
     "execution_count": 11,
     "metadata": {},
     "output_type": "execute_result"
    }
   ],
   "source": [
    "#Informando os tipos de dados\n",
    "datasetVendasMensal.dtypes"
   ]
  },
  {
   "cell_type": "markdown",
   "id": "1094d60b-f874-411c-a83c-8a4ccfde77ef",
   "metadata": {},
   "source": [
    "## **Verificando os valores de outliers**"
   ]
  },
  {
   "cell_type": "code",
   "execution_count": 13,
   "id": "1fc2e0f6-3cc2-4566-b590-533c4af53e0c",
   "metadata": {},
   "outputs": [],
   "source": [
    "# Calculando Q1, Q3 e IQR\n",
    "Q1 = datasetVendasMensal['Total_Vendas'].quantile(0.25)\n",
    "Q3 = datasetVendasMensal['Total_Vendas'].quantile(0.75)\n",
    "IQR = Q3 - Q1"
   ]
  },
  {
   "cell_type": "code",
   "execution_count": 14,
   "id": "d7951834-0564-4c0a-b1fb-af5d9b4f731e",
   "metadata": {},
   "outputs": [],
   "source": [
    "# Definindos os limites\n",
    "limite_inferior = Q1 - 1.5 * IQR\n",
    "limite_superior = Q3 + 1.5 * IQR"
   ]
  },
  {
   "cell_type": "code",
   "execution_count": 15,
   "id": "b3be0ad2-cebe-47b3-ac4e-d026ff59bb53",
   "metadata": {},
   "outputs": [
    {
     "data": {
      "text/html": [
       "<div>\n",
       "<style scoped>\n",
       "    .dataframe tbody tr th:only-of-type {\n",
       "        vertical-align: middle;\n",
       "    }\n",
       "\n",
       "    .dataframe tbody tr th {\n",
       "        vertical-align: top;\n",
       "    }\n",
       "\n",
       "    .dataframe thead th {\n",
       "        text-align: right;\n",
       "    }\n",
       "</style>\n",
       "<table border=\"1\" class=\"dataframe\">\n",
       "  <thead>\n",
       "    <tr style=\"text-align: right;\">\n",
       "      <th></th>\n",
       "      <th>Data</th>\n",
       "      <th>Total_Vendas</th>\n",
       "      <th>Outlier</th>\n",
       "    </tr>\n",
       "  </thead>\n",
       "  <tbody>\n",
       "    <tr>\n",
       "      <th>0</th>\n",
       "      <td>2023-01-01</td>\n",
       "      <td>1560.587027</td>\n",
       "      <td>False</td>\n",
       "    </tr>\n",
       "    <tr>\n",
       "      <th>1</th>\n",
       "      <td>2023-02-01</td>\n",
       "      <td>1442.256437</td>\n",
       "      <td>False</td>\n",
       "    </tr>\n",
       "    <tr>\n",
       "      <th>2</th>\n",
       "      <td>2023-03-01</td>\n",
       "      <td>1661.761162</td>\n",
       "      <td>False</td>\n",
       "    </tr>\n",
       "    <tr>\n",
       "      <th>3</th>\n",
       "      <td>2023-04-01</td>\n",
       "      <td>1645.893941</td>\n",
       "      <td>False</td>\n",
       "    </tr>\n",
       "    <tr>\n",
       "      <th>4</th>\n",
       "      <td>2023-05-01</td>\n",
       "      <td>1768.165178</td>\n",
       "      <td>False</td>\n",
       "    </tr>\n",
       "    <tr>\n",
       "      <th>5</th>\n",
       "      <td>2023-06-01</td>\n",
       "      <td>1777.855749</td>\n",
       "      <td>False</td>\n",
       "    </tr>\n",
       "    <tr>\n",
       "      <th>6</th>\n",
       "      <td>2023-07-01</td>\n",
       "      <td>1869.042792</td>\n",
       "      <td>False</td>\n",
       "    </tr>\n",
       "    <tr>\n",
       "      <th>7</th>\n",
       "      <td>2023-08-01</td>\n",
       "      <td>1908.261083</td>\n",
       "      <td>False</td>\n",
       "    </tr>\n",
       "    <tr>\n",
       "      <th>8</th>\n",
       "      <td>2023-09-01</td>\n",
       "      <td>1855.021848</td>\n",
       "      <td>False</td>\n",
       "    </tr>\n",
       "    <tr>\n",
       "      <th>9</th>\n",
       "      <td>2023-10-01</td>\n",
       "      <td>2024.041978</td>\n",
       "      <td>False</td>\n",
       "    </tr>\n",
       "    <tr>\n",
       "      <th>10</th>\n",
       "      <td>2023-11-01</td>\n",
       "      <td>2012.635660</td>\n",
       "      <td>False</td>\n",
       "    </tr>\n",
       "    <tr>\n",
       "      <th>11</th>\n",
       "      <td>2023-12-01</td>\n",
       "      <td>2065.129330</td>\n",
       "      <td>False</td>\n",
       "    </tr>\n",
       "  </tbody>\n",
       "</table>\n",
       "</div>"
      ],
      "text/plain": [
       "         Data  Total_Vendas  Outlier\n",
       "0  2023-01-01   1560.587027    False\n",
       "1  2023-02-01   1442.256437    False\n",
       "2  2023-03-01   1661.761162    False\n",
       "3  2023-04-01   1645.893941    False\n",
       "4  2023-05-01   1768.165178    False\n",
       "5  2023-06-01   1777.855749    False\n",
       "6  2023-07-01   1869.042792    False\n",
       "7  2023-08-01   1908.261083    False\n",
       "8  2023-09-01   1855.021848    False\n",
       "9  2023-10-01   2024.041978    False\n",
       "10 2023-11-01   2012.635660    False\n",
       "11 2023-12-01   2065.129330    False"
      ]
     },
     "execution_count": 15,
     "metadata": {},
     "output_type": "execute_result"
    }
   ],
   "source": [
    "# Identificando os outliers com a criação da coluna: Outlier\n",
    "datasetVendasMensal_Ajuste = datasetVendasMensal.copy()  # Garante que você está trabalhando com uma cópia\n",
    "datasetVendasMensal_Ajuste.loc[:, 'Outlier'] = (datasetVendasMensal['Total_Vendas'] < limite_inferior) | (datasetVendasMensal['Total_Vendas'] > limite_superior)\n",
    "datasetVendasMensal_Ajuste"
   ]
  },
  {
   "cell_type": "code",
   "execution_count": 16,
   "id": "4f69ba57-7e21-4adf-aa21-9b3c9e3a36d7",
   "metadata": {},
   "outputs": [
    {
     "name": "stdout",
     "output_type": "stream",
     "text": [
      "Quantidade de outliers: 0\n",
      "Resultado: Não possui outliers\n"
     ]
    }
   ],
   "source": [
    "# Verifica se há pelo menos um outlier\n",
    "outlier_counts = datasetVendasMensal_Ajuste['Outlier'].value_counts()\n",
    "# Verifica se há outliers \n",
    "if outlier_counts.get(True, 0) > 0:\n",
    "    print(\"Quantidade de outliers: \", outlier_counts[True])\n",
    "    print(\"Resultado: Possui outliers\")\n",
    "else:\n",
    "    print(\"Quantidade de outliers: 0\")\n",
    "    print(\"Resultado: Não possui outliers\")"
   ]
  },
  {
   "cell_type": "code",
   "execution_count": 17,
   "id": "12d28d34-f31e-4f22-a538-cca577060dae",
   "metadata": {},
   "outputs": [
    {
     "data": {
      "image/png": "[encoded data removed]",
      "text/plain": [
       "<Figure size 1000x400 with 1 Axes>"
      ]
     },
     "metadata": {},
     "output_type": "display_data"
    }
   ],
   "source": [
    "#Visualização de Gráficos com o BoxPlot para verificar a ausencia de outliers\n",
    "plt.boxplot(datasetVendasMensal_Ajuste['Total_Vendas'], vert=False)\n",
    "plt.title('Boxplot dos Valores')\n",
    "plt.show()"
   ]
  },
  {
   "cell_type": "code",
   "execution_count": 18,
   "id": "05e7e9e6-e606-4a82-889d-9258946fc95d",
   "metadata": {},
   "outputs": [
    {
     "data": {
      "text/html": [
       "<div>\n",
       "<style scoped>\n",
       "    .dataframe tbody tr th:only-of-type {\n",
       "        vertical-align: middle;\n",
       "    }\n",
       "\n",
       "    .dataframe tbody tr th {\n",
       "        vertical-align: top;\n",
       "    }\n",
       "\n",
       "    .dataframe thead th {\n",
       "        text-align: right;\n",
       "    }\n",
       "</style>\n",
       "<table border=\"1\" class=\"dataframe\">\n",
       "  <thead>\n",
       "    <tr style=\"text-align: right;\">\n",
       "      <th></th>\n",
       "      <th>Data</th>\n",
       "      <th>Total_Vendas</th>\n",
       "    </tr>\n",
       "  </thead>\n",
       "  <tbody>\n",
       "    <tr>\n",
       "      <th>0</th>\n",
       "      <td>2023-01-01</td>\n",
       "      <td>1560.587027</td>\n",
       "    </tr>\n",
       "    <tr>\n",
       "      <th>1</th>\n",
       "      <td>2023-02-01</td>\n",
       "      <td>1442.256437</td>\n",
       "    </tr>\n",
       "    <tr>\n",
       "      <th>2</th>\n",
       "      <td>2023-03-01</td>\n",
       "      <td>1661.761162</td>\n",
       "    </tr>\n",
       "    <tr>\n",
       "      <th>3</th>\n",
       "      <td>2023-04-01</td>\n",
       "      <td>1645.893941</td>\n",
       "    </tr>\n",
       "    <tr>\n",
       "      <th>4</th>\n",
       "      <td>2023-05-01</td>\n",
       "      <td>1768.165178</td>\n",
       "    </tr>\n",
       "    <tr>\n",
       "      <th>5</th>\n",
       "      <td>2023-06-01</td>\n",
       "      <td>1777.855749</td>\n",
       "    </tr>\n",
       "    <tr>\n",
       "      <th>6</th>\n",
       "      <td>2023-07-01</td>\n",
       "      <td>1869.042792</td>\n",
       "    </tr>\n",
       "    <tr>\n",
       "      <th>7</th>\n",
       "      <td>2023-08-01</td>\n",
       "      <td>1908.261083</td>\n",
       "    </tr>\n",
       "    <tr>\n",
       "      <th>8</th>\n",
       "      <td>2023-09-01</td>\n",
       "      <td>1855.021848</td>\n",
       "    </tr>\n",
       "    <tr>\n",
       "      <th>9</th>\n",
       "      <td>2023-10-01</td>\n",
       "      <td>2024.041978</td>\n",
       "    </tr>\n",
       "    <tr>\n",
       "      <th>10</th>\n",
       "      <td>2023-11-01</td>\n",
       "      <td>2012.635660</td>\n",
       "    </tr>\n",
       "    <tr>\n",
       "      <th>11</th>\n",
       "      <td>2023-12-01</td>\n",
       "      <td>2065.129330</td>\n",
       "    </tr>\n",
       "  </tbody>\n",
       "</table>\n",
       "</div>"
      ],
      "text/plain": [
       "         Data  Total_Vendas\n",
       "0  2023-01-01   1560.587027\n",
       "1  2023-02-01   1442.256437\n",
       "2  2023-03-01   1661.761162\n",
       "3  2023-04-01   1645.893941\n",
       "4  2023-05-01   1768.165178\n",
       "5  2023-06-01   1777.855749\n",
       "6  2023-07-01   1869.042792\n",
       "7  2023-08-01   1908.261083\n",
       "8  2023-09-01   1855.021848\n",
       "9  2023-10-01   2024.041978\n",
       "10 2023-11-01   2012.635660\n",
       "11 2023-12-01   2065.129330"
      ]
     },
     "execution_count": 18,
     "metadata": {},
     "output_type": "execute_result"
    }
   ],
   "source": [
    "# Excluindo a coluna Outlier \n",
    "datasetVendasMensal_Ajuste.drop(columns='Outlier')"
   ]
  },
  {
   "cell_type": "code",
   "execution_count": 19,
   "id": "b0a16f66-6100-4c51-8924-653a6b7222bd",
   "metadata": {},
   "outputs": [
    {
     "data": {
      "text/plain": [
       "pandas.core.frame.DataFrame"
      ]
     },
     "execution_count": 19,
     "metadata": {},
     "output_type": "execute_result"
    }
   ],
   "source": [
    "type(datasetVendasMensal_Ajuste)"
   ]
  },
  {
   "cell_type": "code",
   "execution_count": 20,
   "id": "52cb1d08-2e15-410b-bb31-dc79dbfe21bf",
   "metadata": {},
   "outputs": [
    {
     "data": {
      "text/plain": [
       "pandas.core.series.Series"
      ]
     },
     "execution_count": 20,
     "metadata": {},
     "output_type": "execute_result"
    }
   ],
   "source": [
    "# Converter o DataFrame em uma série temporal com a data como índice\n",
    "serie_temporal = datasetVendasMensal_Ajuste.set_index('Data')['Total_Vendas']\n",
    "serie_temporal = serie_temporal.asfreq('MS')\n",
    "type(serie_temporal)"
   ]
  },
  {
   "cell_type": "code",
   "execution_count": 21,
   "id": "a9c45c79-55ff-457e-a4c8-0191cfcae90e",
   "metadata": {},
   "outputs": [
    {
     "data": {
      "text/plain": [
       "Data\n",
       "2023-01-01    1560.587027\n",
       "2023-02-01    1442.256437\n",
       "2023-03-01    1661.761162\n",
       "2023-04-01    1645.893941\n",
       "2023-05-01    1768.165178\n",
       "2023-06-01    1777.855749\n",
       "2023-07-01    1869.042792\n",
       "2023-08-01    1908.261083\n",
       "2023-09-01    1855.021848\n",
       "2023-10-01    2024.041978\n",
       "2023-11-01    2012.635660\n",
       "2023-12-01    2065.129330\n",
       "Freq: MS, Name: Total_Vendas, dtype: float64"
      ]
     },
     "execution_count": 21,
     "metadata": {},
     "output_type": "execute_result"
    }
   ],
   "source": [
    "serie_temporal"
   ]
  },
  {
   "cell_type": "code",
   "execution_count": 22,
   "id": "cc5d5605-0d8d-474c-9c23-5fc3221e2ddb",
   "metadata": {},
   "outputs": [
    {
     "data": {
      "image/png": "[encoded data removed]",
      "text/plain": [
       "<Figure size 1200x600 with 1 Axes>"
      ]
     },
     "metadata": {},
     "output_type": "display_data"
    }
   ],
   "source": [
    "# Cria o gráfico da série temporal \n",
    "plt.figure(figsize = (12, 6))\n",
    "plt.plot(serie_temporal)\n",
    "plt.xlabel('Data')\n",
    "plt.ylabel('Vendas')\n",
    "plt.title('Série Temporal de Vendas')\n",
    "plt.show()"
   ]
  },
  {
   "cell_type": "code",
   "execution_count": 23,
   "id": "7620b0e1-28a3-4331-beef-bd3021d36868",
   "metadata": {},
   "outputs": [],
   "source": [
    "import seaborn as sns\n",
    "from statsmodels.tsa.holtwinters import SimpleExpSmoothing"
   ]
  },
  {
   "cell_type": "code",
   "execution_count": 24,
   "id": "e194f634-9b31-44ac-991d-9960d25108c8",
   "metadata": {},
   "outputs": [],
   "source": [
    "# Cria o modelo Suavização Exponencial Simples.\n",
    "modelo = SimpleExpSmoothing(serie_temporal)"
   ]
  },
  {
   "cell_type": "code",
   "execution_count": 25,
   "id": "22f20d88-b48e-46b2-bffa-0175533e20a8",
   "metadata": {},
   "outputs": [],
   "source": [
    "# Treinamento (ajuste) do modelo\n",
    "modelo_ajustado = modelo.fit(smoothing_level = 0.3, optimized=False)"
   ]
  },
  {
   "cell_type": "code",
   "execution_count": 26,
   "id": "7d7c3efb-d7f1-40d7-a13c-48f0d03a4c44",
   "metadata": {},
   "outputs": [],
   "source": [
    "# Extrai os valores previstos pelo modelo\n",
    "suavizacao_exponencial = modelo_ajustado.fittedvalues"
   ]
  },
  {
   "cell_type": "code",
   "execution_count": 27,
   "id": "81601a49-08d1-4a25-b173-aab9a0aa1058",
   "metadata": {},
   "outputs": [
    {
     "data": {
      "text/plain": [
       "Data\n",
       "2023-01-01    1560.587027\n",
       "2023-02-01    1560.587027\n",
       "2023-03-01    1525.087850\n",
       "2023-04-01    1566.089843\n",
       "2023-05-01    1590.031073\n",
       "2023-06-01    1643.471304\n",
       "2023-07-01    1683.786638\n",
       "2023-08-01    1739.363484\n",
       "2023-09-01    1790.032764\n",
       "2023-10-01    1809.529489\n",
       "2023-11-01    1873.883236\n",
       "2023-12-01    1915.508963\n",
       "Freq: MS, dtype: float64"
      ]
     },
     "execution_count": 27,
     "metadata": {},
     "output_type": "execute_result"
    }
   ],
   "source": [
    "suavizacao_exponencial"
   ]
  },
  {
   "cell_type": "code",
   "execution_count": 28,
   "id": "9992aa0c-a511-4e52-9d17-4af0e81ea7c9",
   "metadata": {},
   "outputs": [
    {
     "data": {
      "image/png": "[encoded data removed]",
      "text/plain": [
       "<Figure size 1200x600 with 1 Axes>"
      ]
     },
     "metadata": {},
     "output_type": "display_data"
    }
   ],
   "source": [
    "# Plot\n",
    "plt.figure(figsize = (12, 6))\n",
    "plt.plot(serie_temporal, label = 'Valores Reais')\n",
    "plt.plot(suavizacao_exponencial, label = 'Valores Suavizados', linestyle = '--')\n",
    "plt.xlabel('Data')\n",
    "plt.ylabel('Vendas')\n",
    "plt.title('Modelo de Suavização Exponencial')\n",
    "plt.legend()\n",
    "plt.show()"
   ]
  },
  {
   "cell_type": "markdown",
   "id": "6ed2799b-8492-47ed-9aa1-0d0f987f2cc8",
   "metadata": {},
   "source": [
    "## **Previsão com o Modelo Treinado Valores Mensais**"
   ]
  },
  {
   "cell_type": "code",
   "execution_count": 30,
   "id": "ea965dee-636b-4a42-8edb-7cbf56364c19",
   "metadata": {},
   "outputs": [
    {
     "name": "stdout",
     "output_type": "stream",
     "text": [
      "Previsão do Total de Vendas Para Janeiro/2024: 1960.4\n"
     ]
    }
   ],
   "source": [
    "# Faz previsão somente para o mes de janeiro com valores acumulados \n",
    "num_previsoes = 1\n",
    "previsoes = modelo_ajustado.forecast(steps = num_previsoes)\n",
    "# Previsão para Janeiro/2024\n",
    "previsao_janeiro_2024 = previsoes.iloc[0]\n",
    "print('Previsão do Total de Vendas Para Janeiro/2024:', round(previsao_janeiro_2024, 2))"
   ]
  },
  {
   "cell_type": "markdown",
   "id": "81180bbd-8d03-49a6-b254-a0f8c47d1694",
   "metadata": {},
   "source": [
    "# **AVALIANDO O DESEMPENHO**"
   ]
  },
  {
   "cell_type": "code",
   "execution_count": 32,
   "id": "3224ada7-4af8-46fa-b607-8b78043d65d0",
   "metadata": {},
   "outputs": [
    {
     "name": "stdout",
     "output_type": "stream",
     "text": [
      "Média anual em meses (Somatório acumulado): 1799.22\n"
     ]
    }
   ],
   "source": [
    "print('Média anual em meses (Somatório acumulado): {:.2f}'.format(mediaAnualTotalVendas))"
   ]
  },
  {
   "cell_type": "code",
   "execution_count": 33,
   "id": "cd4979cb-4cfd-4ae7-babf-9f44be054919",
   "metadata": {},
   "outputs": [
    {
     "name": "stdout",
     "output_type": "stream",
     "text": [
      "1560.587026507696\n"
     ]
    }
   ],
   "source": [
    "#Acessando o primeiro valor do datasetVendasMensal \n",
    "primeiro_valor = datasetVendasMensal.iloc[0]['Total_Vendas']\n",
    "print(primeiro_valor)  "
   ]
  },
  {
   "cell_type": "code",
   "execution_count": 34,
   "id": "c4c3adfa-28a9-4549-bef6-c77d00ce91d7",
   "metadata": {},
   "outputs": [
    {
     "name": "stdout",
     "output_type": "stream",
     "text": [
      "    valor real\n",
      "0  1560.587027\n"
     ]
    }
   ],
   "source": [
    "# Lista com valor real de janeiro de 2023 (somatório do mês)\n",
    "lista = [primeiro_valor]\n",
    "valor_real = pd.DataFrame(lista, columns = ['valor real'])\n",
    "print(valor_real)"
   ]
  },
  {
   "cell_type": "code",
   "execution_count": 35,
   "id": "da32f2a9-c6a2-4e8a-a268-383fe38fe08d",
   "metadata": {},
   "outputs": [
    {
     "name": "stdout",
     "output_type": "stream",
     "text": [
      "   valor previsto\n",
      "0     1960.395073\n"
     ]
    }
   ],
   "source": [
    "# Convertendo o valor da previsão em uma lista\n",
    "lista = [previsao_janeiro_2024]\n",
    "valor_previsto = pd.DataFrame(lista, columns=['valor previsto'])\n",
    "print(valor_previsto)\n",
    "\n"
   ]
  },
  {
   "cell_type": "code",
   "execution_count": 36,
   "id": "d81e5689-c82c-4dbf-b521-05d0feec7524",
   "metadata": {},
   "outputs": [
    {
     "data": {
      "text/html": [
       "<div>\n",
       "<style scoped>\n",
       "    .dataframe tbody tr th:only-of-type {\n",
       "        vertical-align: middle;\n",
       "    }\n",
       "\n",
       "    .dataframe tbody tr th {\n",
       "        vertical-align: top;\n",
       "    }\n",
       "\n",
       "    .dataframe thead th {\n",
       "        text-align: right;\n",
       "    }\n",
       "</style>\n",
       "<table border=\"1\" class=\"dataframe\">\n",
       "  <thead>\n",
       "    <tr style=\"text-align: right;\">\n",
       "      <th></th>\n",
       "      <th>valor real</th>\n",
       "      <th>valor previsto</th>\n",
       "    </tr>\n",
       "  </thead>\n",
       "  <tbody>\n",
       "    <tr>\n",
       "      <th>0</th>\n",
       "      <td>1560.587027</td>\n",
       "      <td>1960.395073</td>\n",
       "    </tr>\n",
       "  </tbody>\n",
       "</table>\n",
       "</div>"
      ],
      "text/plain": [
       "    valor real  valor previsto\n",
       "0  1560.587027     1960.395073"
      ]
     },
     "execution_count": 36,
     "metadata": {},
     "output_type": "execute_result"
    }
   ],
   "source": [
    "desempenho = pd.concat([valor_real, valor_previsto],axis=1)\n",
    "desempenho"
   ]
  },
  {
   "cell_type": "markdown",
   "id": "d1025332-7079-4c32-91f5-3a2aa7e3b240",
   "metadata": {},
   "source": [
    "# **ERRO MÉDIO ABSOLUTO (MAE)**"
   ]
  },
  {
   "cell_type": "code",
   "execution_count": 38,
   "id": "9b265812-ac16-4368-b343-ff576b3e86d3",
   "metadata": {},
   "outputs": [],
   "source": [
    "from sklearn.metrics import mean_absolute_error, mean_squared_error"
   ]
  },
  {
   "cell_type": "code",
   "execution_count": 39,
   "id": "a886ab7a-3272-430d-a213-638904e167fd",
   "metadata": {},
   "outputs": [
    {
     "name": "stdout",
     "output_type": "stream",
     "text": [
      "ERRO MÉDIO ABSOLUTO (MAE)\n",
      "SES: 399.81\n",
      "MÉDIA: 1799.22\n",
      "Modelo aprovado\n"
     ]
    }
   ],
   "source": [
    "print('ERRO MÉDIO ABSOLUTO (MAE)') \n",
    "mae = mean_absolute_error(desempenho['valor real'], desempenho['valor previsto'])\n",
    "#Suavização Exponencial Simples\n",
    "print('SES: {:.2f}'.format(mae))\n",
    "\n",
    "try:\n",
    "    print('MÉDIA: {:.2f}'.format(mediaAnualTotalVendas))\n",
    "except NameError:\n",
    "    print('Erro: A variável \"mediaAnualTotalVendas\" não foi definida.')\n",
    "    \n",
    "resultado = (lambda mae, media: 'Modelo aprovado' if mae < media else 'Modelo não aprovado')(mae, mediaAnualTotalVendas)\n",
    "print(resultado)"
   ]
  },
  {
   "cell_type": "markdown",
   "id": "9cc8ecb3-3e8f-4ff6-9732-f7d7292bda1f",
   "metadata": {},
   "source": [
    "# **ERRO QUADRÁTICO MÉDIO (MSE)**"
   ]
  },
  {
   "cell_type": "code",
   "execution_count": 41,
   "id": "d5f2e971-28c4-480e-8813-ad48a21e0d08",
   "metadata": {},
   "outputs": [
    {
     "name": "stdout",
     "output_type": "stream",
     "text": [
      "ERRO QUADRÁTICO MÉDIO (MSE)\n",
      "SES: 159846.47\n",
      "MÉDIA: 3237196.26\n",
      "%: 4.94\n",
      "Modelo excelente\n"
     ]
    }
   ],
   "source": [
    "print('ERRO QUADRÁTICO MÉDIO (MSE)')\n",
    "mse = mean_squared_error(desempenho['valor real'], desempenho['valor previsto'])\n",
    "#Suavização Exponencial Simples\n",
    "print('SES: {:.2f}'.format(mse))\n",
    "\n",
    "def calcular_mediaAnualTotalVendas(mediaAnualTotalVendas):\n",
    "    media_valor_venda_ao_quadrado = mediaAnualTotalVendas ** 2\n",
    "    return media_valor_venda_ao_quadrado\n",
    "\n",
    "try:\n",
    "    media_ao_quadrado = calcular_mediaAnualTotalVendas(mediaAnualTotalVendas)\n",
    "    print('MÉDIA: {:.2f}'.format(media_ao_quadrado))\n",
    "    \n",
    "    percentual_mse = (mse / media_ao_quadrado) * 100\n",
    "    print('%: {:.2f}'.format(percentual_mse))\n",
    "\n",
    "    if percentual_mse < 10:\n",
    "        print('Modelo excelente')\n",
    "    elif percentual_mse < 30:\n",
    "        print('Modelo bom')\n",
    "    elif percentual_mse < 50:\n",
    "        print('Modelo razoável')\n",
    "    else:\n",
    "        print('Modelo rejeitado')\n",
    "\n",
    "except NameError:\n",
    "    print('Erro: A variável \"media_valor_venda\" não foi definida.')\n"
   ]
  },
  {
   "cell_type": "markdown",
   "id": "6d233a62-3c1e-49e9-b7d0-1652aa09f255",
   "metadata": {},
   "source": [
    "# **RAIZ DO ERRO QUADRÁTICO MÉDIO (RMSE)**"
   ]
  },
  {
   "cell_type": "code",
   "execution_count": 43,
   "id": "260a1122-309f-4457-8ad1-5a0df8dede62",
   "metadata": {},
   "outputs": [
    {
     "name": "stdout",
     "output_type": "stream",
     "text": [
      "RAIZ DO ERRO QUADRÁTICO MÉDIO (RMSE)\n",
      "SES: 399.81\n",
      "MÉDIA: 1799.22\n",
      "Modelo aprovado\n"
     ]
    }
   ],
   "source": [
    "from sklearn.metrics import mean_squared_error\n",
    "print('RAIZ DO ERRO QUADRÁTICO MÉDIO (RMSE)')\n",
    "mse = mean_squared_error(desempenho['valor real'], desempenho['valor previsto'])\n",
    "rmse = np.sqrt(mse)\n",
    "print('SES: {:.2f}'.format(rmse))\n",
    "\n",
    "try:\n",
    "    print('MÉDIA: {:.2f}'.format(mediaAnualTotalVendas))\n",
    "except NameError:\n",
    "    print('Erro: A variável \"media_valor_venda\" não foi definida.')\n",
    "\n",
    "resultado = (lambda rmse, media: 'Modelo aprovado' if rmse < media else 'Modelo não aprovado')(rmse, mediaAnualTotalVendas)\n",
    "print(resultado)\n"
   ]
  },
  {
   "cell_type": "markdown",
   "id": "bee298eb-2b3c-4c13-b609-da52582db374",
   "metadata": {},
   "source": [
    "# **ERRO PERCENTUAL MÉDIA ABSOLUTO (MAPE)**"
   ]
  },
  {
   "cell_type": "code",
   "execution_count": 45,
   "id": "a6ab2dd7-8803-43a2-9452-f1f4b2214cd2",
   "metadata": {},
   "outputs": [
    {
     "name": "stdout",
     "output_type": "stream",
     "text": [
      "ERRO PERCENTUAL MÉDIA ABSOLUTO (MAPE)\n",
      "SES: 25.62%\n",
      "MÉDIA: 1799.22\n",
      "Modelo razoável\n"
     ]
    }
   ],
   "source": [
    "print('ERRO PERCENTUAL MÉDIA ABSOLUTO (MAPE)')\n",
    "desempenho.loc[:, 'valor real'] = pd.to_numeric(desempenho['valor real'], errors='coerce')\n",
    "desempenho.loc[:, 'valor previsto'] = pd.to_numeric(desempenho['valor previsto'], errors='coerce')\n",
    "# Calculando o MAPE\n",
    "mape = np.mean(np.abs((desempenho['valor real'] - desempenho['valor previsto']) / desempenho['valor real'])) * 100\n",
    "# Suavização Exponencial Simples\n",
    "print('SES: {:.2f}%'.format(mape))\n",
    "\n",
    "try:\n",
    "    print('MÉDIA: {:.2f}'.format(mediaAnualTotalVendas))\n",
    "except NameError:\n",
    "    print('Erro: A variável \"mediaAnualTotalVendas\" não foi definida.')\n",
    "\n",
    "# Avaliando o desempenho do modelo\n",
    "if mape < 10: \n",
    "    print('Modelo excelente')\n",
    "elif mape < 20: \n",
    "    print('Modelo bom')\n",
    "elif mape < 50:\n",
    "    print('Modelo razoável') \n",
    "else: \n",
    "    print('Modelo ruim')"
   ]
  },
  {
   "cell_type": "markdown",
   "id": "ac0ddaa3-f7c9-4ff4-96f2-9f437768f8f5",
   "metadata": {},
   "source": [
    "1. Erro Médio Absoluto (MAE)\n",
    "O Erro Médio Absoluto (Mean Absolute Error - MAE) é a média das diferenças absolutas entre os valores previstos e os valores reais. Em outras palavras, mede o quanto as previsões estão, em média, distantes dos valores reais.\n",
    "\n",
    "2. Erro Quadrático Médio (MSE)\n",
    "O Erro Quadrático Médio (Mean Squared Error - MSE) é a média dos quadrados das diferenças entre os valores previstos e os valores reais. Ele é útil porque penaliza erros maiores de forma mais intensa.\n",
    "\n",
    "3. Raiz do Erro Quadrático Médio (RMSE)\n",
    "A Raiz do Erro Quadrático Médio (Root Mean Squared Error - RMSE) é a raiz quadrada do MSE. Isso traz a métrica para a mesma unidade dos dados originais, facilitando a interpretação.\n",
    "\n",
    "4. Erro Percentual Médio Absoluto (MAPE)\n",
    "O Erro Percentual Médio Absoluto (Mean Absolute Percentage Error - MAPE) é a média das diferenças absolutas entre os valores previstos e os valores reais, expressa como uma porcentagem dos valores reais. É útil para entender a precisão relativa do modelo."
   ]
  },
  {
   "cell_type": "code",
   "execution_count": null,
   "id": "6121db1e-0c2a-417a-9ed2-25d808d553cb",
   "metadata": {},
   "outputs": [],
   "source": []
  }
 ],
 "metadata": {
  "kernelspec": {
   "display_name": "Python 3 (ipykernel)",
   "language": "python",
   "name": "python3"
  },
  "language_info": {
   "codemirror_mode": {
    "name": "ipython",
    "version": 3
   },
   "file_extension": ".py",
   "mimetype": "text/x-python",
   "name": "python",
   "nbconvert_exporter": "python",
   "pygments_lexer": "ipython3",
   "version": "3.12.4"
  }
 },
 "nbformat": 4,
 "nbformat_minor": 5
}
